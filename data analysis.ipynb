{
 "cells": [
  {
   "cell_type": "code",
   "execution_count": 1,
   "metadata": {},
   "outputs": [],
   "source": [
    "import pandas as pd\n",
    "import numpy as np\n",
    "from pprint import pprint\n",
    "from scipy import stats\n",
    "import matplotlib.pyplot as plt"
   ]
  },
  {
   "cell_type": "code",
   "execution_count": 2,
   "metadata": {},
   "outputs": [
    {
     "name": "stdout",
     "output_type": "stream",
     "text": [
      "Timestamp                                                                                                                         datetime64[ns]\n",
      "What do you use as your primary messaging app?                                                                                            object\n",
      "From when have you used the above-chosen app as your primary messaging platform?                                                          object\n",
      "What made you a) select the above-chosen since the start, or, b) switch to it later?                                                      object\n",
      "At what age did you start using the messaging app?                                                                                        object\n",
      "Do most of your close friends use the same messaging app as you?                                                                          object\n",
      "Do most of your family members use the same messaging app as you?                                                                         object\n",
      "Which app do you prefer to use for chatting with your family and other relatives?                                                         object\n",
      "Which app do you prefer to use for chatting with friends?                                                                                 object\n",
      "Which app would you prefer to use for chatting with a person of the opposite sex?                                                         object\n",
      "Which app would you prefer to use for chatting with a person of the same sex?                                                             object\n",
      "How would you rate Facebook Messenger compared to WhatsApp on the basis of EASE?                                                           int64\n",
      "How would you rate Facebook Messenger compared to WhatsApp on the basis of SECURITY?                                                       int64\n",
      "How scared are you about the privacy of your chat messages?                                                                                int64\n",
      "How privacy-conscious are you about your chat messages?                                                                                   object\n",
      "How much awareness do you have about encryption in communication?                                                                         object\n",
      "If we tell you that Facebook Messenger is constantly reading your personal chats on messenger, would you still use it as much?            object\n",
      "Employees should not talk to their bosses about personal matters.                                                                          int64\n",
      "Power and wealth are evil.                                                                                                                 int64\n",
      "Change in my life is important to me.                                                                                                      int64\n",
      "A manager must be an expert in the field in which he or she manages.                                                                       int64\n",
      "When a girl/ boy becomes 21 years of age, they should be encouraged to move away from home.                                                int64\n",
      "It is important that people conform to the group’s norms to reach their goals.                                                             int64\n",
      "The most important thing in my life is my career.                                                                                          int64\n",
      "It is important to finish one interaction before rushing off to another.                                                                   int64\n",
      "Short Term goals collectively align your interests and careers more effectively than long term goals.                                      int64\n",
      "Your Name                                                                                                                                 object\n",
      "Your Gender                                                                                                                               object\n",
      "Your Age                                                                                                                                   int64\n",
      "City of residence                                                                                                                         object\n",
      "Have you lived out of your home for >1 year?                                                                                              object\n",
      "Guardian's email id                                                                                                                       object\n",
      "City Tier (Coded)                                                                                                                          int64\n",
      "dtype: object\n"
     ]
    }
   ],
   "source": [
    "df = pd.read_excel(r'Final Responses.xlsx')\n",
    "#print(df.head())\n",
    "print(df.dtypes)"
   ]
  },
  {
   "cell_type": "code",
   "execution_count": 3,
   "metadata": {},
   "outputs": [
    {
     "name": "stdout",
     "output_type": "stream",
     "text": [
      "Total number of responses are : 82\n",
      "array([[ 4.,  2.,  0.],\n",
      "       [22., 11.,  9.],\n",
      "       [14., 11.,  9.]])\n"
     ]
    }
   ],
   "source": [
    "print(\"Total number of responses are :\", len(df))\n",
    "table = np.zeros((3,3))\n",
    "#    1    2    3\n",
    "# Y\n",
    "# N\n",
    "# M\n",
    "for i in range(0, len(df)):\n",
    "    city = df.at[i, 'City Tier (Coded)']\n",
    "    if(df.at[i, 'If we tell you that Facebook Messenger is constantly reading your personal chats on messenger, would you still use it as much?']\n",
    "      == 'Yes'):\n",
    "        answer = 0\n",
    "    elif(df.at[i, 'If we tell you that Facebook Messenger is constantly reading your personal chats on messenger, would you still use it as much?']\n",
    "      == 'No'):\n",
    "        answer = 1\n",
    "    else:\n",
    "        answer = 2\n",
    "    table[answer][city - 1] += 1    \n",
    "    \n",
    "pprint(table)"
   ]
  },
  {
   "cell_type": "code",
   "execution_count": 4,
   "metadata": {},
   "outputs": [
    {
     "name": "stdout",
     "output_type": "stream",
     "text": [
      "significance=0.050, p=0.587, stat=2.827\n",
      "Variables are not associated(fail to reject H0)\n"
     ]
    }
   ],
   "source": [
    "# Get chi-square value , p-value, degrees of freedom, expected frequencies using the function chi2_contingency\n",
    "stat, p, dof, expected = stats.chi2_contingency(table)\n",
    "\n",
    "# select significance value\n",
    "alpha = 0.05\n",
    "# Determine whether to reject or keep your null hypothesis\n",
    "print('significance=%.3f, p=%.3f, stat=%.3f' % (alpha, p, stat))\n",
    "if p <= alpha:\n",
    "    print('Variables are associated (reject H0)')\n",
    "else:\n",
    "    print('Variables are not associated(fail to reject H0)')"
   ]
  },
  {
   "cell_type": "code",
   "execution_count": 5,
   "metadata": {},
   "outputs": [
    {
     "name": "stdout",
     "output_type": "stream",
     "text": [
      "64 13 0 4 1 0\n"
     ]
    }
   ],
   "source": [
    "wa_start = wa_shift = fb_start = fb_shift = t_start = t_shift = 0\n",
    "for i in range(len(df)):\n",
    "    if(df.at[i, 'What do you use as your primary messaging app?'] == 'Whatsapp' and df.at[i, 'From when have you used the above-chosen app as your primary messaging platform?'] == 'Since the start'):\n",
    "        wa_start += 1\n",
    "    elif(df.at[i, 'What do you use as your primary messaging app?'] == 'Whatsapp' and df.at[i, 'From when have you used the above-chosen app as your primary messaging platform?'] == 'Switched to it some point later'):\n",
    "        wa_shift += 1\n",
    "    elif(df.at[i, 'What do you use as your primary messaging app?'] == 'Facebook Messenger' and df.at[i, 'From when have you used the above-chosen app as your primary messaging platform?'] == 'Switched to it some point later'):\n",
    "        fb_shift += 1\n",
    "    elif(df.at[i, 'What do you use as your primary messaging app?'] == 'Facebook Messenger' and df.at[i, 'From when have you used the above-chosen app as your primary messaging platform?'] == 'Since the start'):\n",
    "        fb_start += 1\n",
    "    elif(df.at[i, 'What do you use as your primary messaging app?'] == 'Telegram' and df.at[i, 'From when have you used the above-chosen app as your primary messaging platform?'] == 'Since the start'):\n",
    "        t_start += 1\n",
    "        \n",
    "print(wa_start, wa_shift, fb_start, fb_shift, t_start, t_shift)"
   ]
  },
  {
   "cell_type": "code",
   "execution_count": 6,
   "metadata": {},
   "outputs": [
    {
     "data": {
      "image/png": "[encoded data removed]",
      "text/plain": [
       "<Figure size 432x288 with 1 Axes>"
      ]
     },
     "metadata": {
      "needs_background": "light"
     },
     "output_type": "display_data"
    }
   ],
   "source": [
    "N = 3\n",
    "Start = (wa_start+wa_shift, fb_start+fb_shift, t_start+t_shift)\n",
    "Shift = (wa_shift, fb_shift, t_shift)\n",
    "ind = np.arange(N)    # the x locations for the groups\n",
    "width = 0.35       # the width of the bars: can also be len(x) sequence\n",
    "\n",
    "p1 = plt.bar(ind, Start, width)\n",
    "p2 = plt.bar(ind, Shift, width)\n",
    "\n",
    "plt.ylabel('Frequency')\n",
    "plt.title('Platform')\n",
    "plt.xticks(ind, ('WhatsApp', 'Facebook Messenger', 'Telegram'))\n",
    "plt.yticks(np.arange(0, 81, 10))\n",
    "plt.legend((p1[0], p2[0]), ('Start', 'Shift'))\n",
    "\n",
    "plt.show()"
   ]
  },
  {
   "cell_type": "code",
   "execution_count": 7,
   "metadata": {},
   "outputs": [
    {
     "name": "stdout",
     "output_type": "stream",
     "text": [
      "72 0 5 2 0 2 1 0 0\n"
     ]
    }
   ],
   "source": [
    "wa_fy = wa_fn = wa_fm = fb_fy = fb_fn = fb_fm = t_fy = t_fn = t_fm = 0\n",
    "for i in range(len(df)):\n",
    "    if(df.at[i, 'What do you use as your primary messaging app?'] == 'Whatsapp' and df.at[i, 'Do most of your close friends use the same messaging app as you?'] == 'Yes'):\n",
    "        wa_fy += 1\n",
    "    elif(df.at[i, 'What do you use as your primary messaging app?'] == 'Whatsapp' and df.at[i, 'Do most of your close friends use the same messaging app as you?'] == 'No'):\n",
    "        wa_fn += 1\n",
    "    elif(df.at[i, 'What do you use as your primary messaging app?'] == 'Whatsapp' and df.at[i, 'Do most of your close friends use the same messaging app as you?'] == 'Maybe'):\n",
    "        wa_fm += 1\n",
    "    elif(df.at[i, 'What do you use as your primary messaging app?'] == 'Facebook Messenger' and df.at[i, 'Do most of your close friends use the same messaging app as you?'] == 'Yes'):\n",
    "        fb_fy += 1\n",
    "    elif(df.at[i, 'What do you use as your primary messaging app?'] == 'Facebook Messenger' and df.at[i, 'Do most of your close friends use the same messaging app as you?'] == 'No'):\n",
    "        fb_fn += 1\n",
    "    elif(df.at[i, 'What do you use as your primary messaging app?'] == 'Facebook Messenger' and df.at[i, 'Do most of your close friends use the same messaging app as you?'] == 'Maybe'):\n",
    "        fb_fm += 1\n",
    "    elif(df.at[i, 'What do you use as your primary messaging app?'] == 'Telegram' and df.at[i, 'Do most of your close friends use the same messaging app as you?'] == 'Yes'):\n",
    "        t_fy += 1\n",
    "    elif(df.at[i, 'What do you use as your primary messaging app?'] == 'Telegram' and df.at[i, 'Do most of your close friends use the same messaging app as you?'] == 'No'):\n",
    "        t_fn += 1\n",
    "    elif(df.at[i, 'What do you use as your primary messaging app?'] == 'Telegram' and df.at[i, 'Do most of your close friends use the same messaging app as you?'] == 'Maybe'):\n",
    "        t_fm += 1\n",
    "    \n",
    "        \n",
    "print(wa_fy, wa_fn, wa_fm, fb_fy, fb_fn, fb_fm, t_fy, t_fn, t_fm)"
   ]
  },
  {
   "cell_type": "code",
   "execution_count": 8,
   "metadata": {},
   "outputs": [
    {
     "data": {
      "image/png": "[encoded data removed]",
      "text/plain": [
       "<Figure size 432x288 with 1 Axes>"
      ]
     },
     "metadata": {
      "needs_background": "light"
     },
     "output_type": "display_data"
    }
   ],
   "source": [
    "N = 3\n",
    "Yes = (wa_fy+wa_fn+wa_fm, fb_fy+fb_fn+fb_fm, t_fy+t_fn+t_fm)\n",
    "No = (wa_fn+wa_fm, fb_fn+fb_fm, t_fn+t_fm)\n",
    "Maybe = (wa_fm, fb_fm, t_fm)\n",
    "\n",
    "ind = np.arange(N)    # the x locations for the groups\n",
    "width = 0.35       # the width of the bars: can also be len(x) sequence\n",
    "\n",
    "p1 = plt.bar(ind, Yes, width)\n",
    "p2 = plt.bar(ind, No, width)\n",
    "p3 = plt.bar(ind, Maybe, width)\n",
    "\n",
    "plt.ylabel('Frequency')\n",
    "plt.title('Platform')\n",
    "plt.xticks(ind, ('WhatsApp', 'Facebook Messenger', 'Telegram'))\n",
    "plt.yticks(np.arange(0, 81, 10))\n",
    "plt.legend((p1[0], p2[0], p3[0]), ('Yes', 'No', 'Maybe'))\n",
    "\n",
    "plt.show()"
   ]
  },
  {
   "cell_type": "code",
   "execution_count": 9,
   "metadata": {},
   "outputs": [
    {
     "name": "stdout",
     "output_type": "stream",
     "text": [
      "71 3 3 3 0 1 1 0 0\n"
     ]
    }
   ],
   "source": [
    "wa_18 = wa_23 = wa_40 = fb_18 = fb_23 = fb_40 = t_18 = t_23 = t_40 = 0\n",
    "for i in range(len(df)):\n",
    "    if(df.at[i, 'What do you use as your primary messaging app?'] == 'Whatsapp' and df.at[i, 'Your Age '] < 23):\n",
    "        wa_18 += 1\n",
    "    elif(df.at[i, 'What do you use as your primary messaging app?'] == 'Whatsapp' and df.at[i, 'Your Age '] < 40):\n",
    "        wa_23 += 1\n",
    "    elif(df.at[i, 'What do you use as your primary messaging app?'] == 'Whatsapp' and df.at[i, 'Your Age '] < 100):\n",
    "        wa_40 += 1\n",
    "    elif(df.at[i, 'What do you use as your primary messaging app?'] == 'Facebook Messenger' and df.at[i, 'Your Age '] < 23):\n",
    "        fb_18 += 1\n",
    "    elif(df.at[i, 'What do you use as your primary messaging app?'] == 'Facebook Messenger' and df.at[i, 'Your Age '] < 40):\n",
    "        fb_23 += 1\n",
    "    elif(df.at[i, 'What do you use as your primary messaging app?'] == 'Facebook Messenger' and df.at[i, 'Your Age '] < 100):\n",
    "        fb_40 += 1\n",
    "    elif(df.at[i, 'What do you use as your primary messaging app?'] == 'Telegram' and df.at[i, 'Your Age '] < 23):\n",
    "        t_18 += 1\n",
    "    elif(df.at[i, 'What do you use as your primary messaging app?'] == 'Telegram' and df.at[i, 'Your Age '] < 40):\n",
    "        t_23 += 1\n",
    "    elif(df.at[i, 'What do you use as your primary messaging app?'] == 'Telegram' and df.at[i, 'Your Age '] < 100):\n",
    "        t_40 += 1    \n",
    "        \n",
    "print(wa_18, wa_23, wa_40, fb_18, fb_23, fb_40, t_18, t_23, t_40)"
   ]
  },
  {
   "cell_type": "code",
   "execution_count": 10,
   "metadata": {},
   "outputs": [
    {
     "data": {
      "image/png": "[encoded data removed]",
      "text/plain": [
       "<Figure size 432x288 with 1 Axes>"
      ]
     },
     "metadata": {
      "needs_background": "light"
     },
     "output_type": "display_data"
    }
   ],
   "source": [
    "N = 3\n",
    "wa = (7500/75, 300/3, 100)\n",
    "fb = (400/75, 0, 25)\n",
    "t = (100/75, 0, 0)\n",
    "\n",
    "ind = np.arange(N)    # the x locations for the groups\n",
    "width = 0.35       # the width of the bars: can also be len(x) sequence\n",
    "\n",
    "p1 = plt.bar(ind, wa, width)\n",
    "p2 = plt.bar(ind, fb, width)\n",
    "p3 = plt.bar(ind, t, width)\n",
    "\n",
    "plt.ylabel('Percent')\n",
    "plt.title('Platform')\n",
    "plt.xticks(ind, ('18-22', '23-39', '40+'))\n",
    "plt.yticks(np.arange(0, 101, 10))\n",
    "plt.legend((p1[0], p2[0], p3[0]), ('Whatsapp', 'Facebook Messenger', 'Telegram'))\n",
    "\n",
    "plt.show()"
   ]
  }
 ],
 "metadata": {
  "kernelspec": {
   "display_name": "Python 3",
   "language": "python",
   "name": "python3"
  },
  "language_info": {
   "codemirror_mode": {
    "name": "ipython",
    "version": 3
   },
   "file_extension": ".py",
   "mimetype": "text/x-python",
   "name": "python",
   "nbconvert_exporter": "python",
   "pygments_lexer": "ipython3",
   "version": "3.8.3"
  }
 },
 "nbformat": 4,
 "nbformat_minor": 4
}
